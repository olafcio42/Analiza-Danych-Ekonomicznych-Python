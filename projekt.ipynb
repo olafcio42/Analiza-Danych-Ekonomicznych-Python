{
 "cells": [
  {
   "cell_type": "code",
   "id": "initial_id",
   "metadata": {
    "collapsed": true,
    "ExecuteTime": {
     "end_time": "2025-02-08T16:36:06.091800Z",
     "start_time": "2025-02-08T16:35:55.990664Z"
    }
   },
   "source": [
    "import os\n",
    "import pandas as pd\n",
    "import numpy as np\n",
    "import matplotlib.pyplot as plt\n",
    "import geopandas as gpd\n",
    "\n",
    "#Ścieżka do folderu głównego, w którym znajdują się podfoldery z plikami .xlsx\n",
    "sciezka_folderu = r'C:\\Users\\olafo\\OneDrive\\Pulpit\\Wiktor_projekt'\n",
    "\n",
    "#Ścieżka do pliku shapefile z granicami krajów\n",
    "shapefile_path = r'C:\\Users\\olafo\\OneDrive\\Pulpit\\Wiktor_projekt\\assets\\ne_110m_admin_0_countries\\ne_110m_admin_0_countries.shp'\n",
    "\n",
    "\n",
    "#Funkcja do wczytania i przetworzenia danych z pliku Excel\n",
    "def przetworz_plik(sciezka_pliku):\n",
    "    #Sprawdzenie, czy plik istnieje\n",
    "    if not os.path.exists(sciezka_pliku):\n",
    "        print(f\"Plik {sciezka_pliku} nie istnieje.\")\n",
    "        return None\n",
    "\n",
    "    #Wczytanie danych z pliku, wiersz 11 (header=10) jako nagłówki\n",
    "    df = pd.read_excel(sciezka_pliku, sheet_name='Sheet 1', header=10)\n",
    "\n",
    "    #Usunięcie wszystkich kolumn zawierających 'Unnamed' w nagłówku\n",
    "    df = df.loc[:, ~df.columns.str.contains('^Unnamed')]\n",
    "\n",
    "    #Usunięcie wierszy i kolumn całkowicie pustych\n",
    "    df = df.dropna(how='all')\n",
    "    df = df.dropna(axis=1, how='all')\n",
    "\n",
    "    #Sprawdzenie obecności kolumny 'TIME'\n",
    "    if 'TIME' not in df.columns:\n",
    "        print(f\"Brak kolumny 'TIME' w pliku {sciezka_pliku}. Dostępne kolumny: {df.columns}\")\n",
    "        return None\n",
    "\n",
    "    #Ustawienie 'TIME' jako indeks\n",
    "    df.set_index('TIME', inplace=True)\n",
    "\n",
    "    #Zamiana 'b', 'd', ':' i pustych komórek na NaN\n",
    "    df.replace(['b', 'd', ':'], np.nan, inplace=True)\n",
    "\n",
    "    #Konwersja danych na wartości numeryczne\n",
    "    df = df.apply(pd.to_numeric, errors='coerce')\n",
    "\n",
    "    #Wypełnienie braków średnią w danej kolumnie\n",
    "    df_przetworzone = df.fillna(df.mean())\n",
    "\n",
    "    return df_przetworzone\n",
    "\n",
    "\n",
    "#Listy krajów UE i poza UE\n",
    "kraje_ue = [\n",
    "    'Germany', 'France', 'Italy', 'Spain', 'Netherlands', 'Poland', 'Austria',\n",
    "    'Finland', 'Sweden', 'Denmark', 'Belgium', 'Czechia', 'Greece', 'Ireland',\n",
    "    'Slovakia', 'Portugal', 'Romania', 'Hungary', 'Lithuania', 'Latvia',\n",
    "    'Slovenia', 'Estonia', 'Luxembourg', 'Malta', 'Cyprus', 'Croatia'\n",
    "]\n",
    "kraje_poza_ue = [\n",
    "    'Switzerland', 'Norway', 'Iceland', 'Türkiye', 'Bosnia and Herzegovina',\n",
    "    'Montenegro', 'North Macedonia', 'Serbia'\n",
    "]\n",
    "\n",
    "#Ustalanie listy krajów na podstawie PKB\n",
    "top_5_ue = ['Germany', 'France', 'Italy', 'Spain', 'Netherlands']\n",
    "bottom_5_ue = ['Bulgaria', 'Romania', 'Latvia', 'Lithuania', 'Slovakia']\n",
    "\n",
    "top_5_poza_ue = ['Switzerland', 'Norway', 'Iceland', 'Türkiye', 'Serbia']\n",
    "bottom_5_poza_ue = ['Bosnia and Herzegovina', 'Montenegro', 'North Macedonia']\n",
    "\n",
    "#-- Wczytanie shapefile tylko raz (jeśli istnieje) --\n",
    "if not os.path.exists(shapefile_path):\n",
    "    print(f\"Plik shapefile nie istnieje: {shapefile_path}\")\n",
    "    print(\"Mapy nie będą generowane.\")\n",
    "    world = None\n",
    "else:\n",
    "    world = gpd.read_file(shapefile_path)\n",
    "    if 'SOVEREIGNT' not in world.columns:\n",
    "        print(f\"Brak kolumny 'SOVEREIGNT' w shapefile. Mapy nie będą generowane.\")\n",
    "        world = None\n",
    "\n",
    "#-----------------------------\n",
    "#GŁÓWNA PĘTLA PO PODFOLDERACH\n",
    "#-----------------------------\n",
    "for folder in os.listdir(sciezka_folderu):\n",
    "    sciezka_folderu_full = os.path.join(sciezka_folderu, folder)\n",
    "\n",
    "    if os.path.isdir(sciezka_folderu_full):\n",
    "        #Pętla przez pliki .xlsx w podfolderze\n",
    "        for nazwa_pliku in os.listdir(sciezka_folderu_full):\n",
    "            if nazwa_pliku.endswith('.xlsx'):\n",
    "                sciezka_pliku = os.path.join(sciezka_folderu_full, nazwa_pliku)\n",
    "\n",
    "                #Przetwarzanie pliku\n",
    "                df_przetworzone = przetworz_plik(sciezka_pliku)\n",
    "\n",
    "                if df_przetworzone is not None:\n",
    "\n",
    "                    #---------------------------------------------------------\n",
    "                    #1. GENEROWANIE WYKRESÓW LINIOWYCH I SŁUPKOWYCH\n",
    "                    #---------------------------------------------------------\n",
    "\n",
    "                    #Przygotowanie danych agregowanych\n",
    "                    df_top_5_ue = df_przetworzone.loc[top_5_ue].mean(axis=0) if all(\n",
    "                        kraj in df_przetworzone.index for kraj in top_5_ue) else df_przetworzone.loc[kraje_ue].mean(\n",
    "                        axis=0)\n",
    "\n",
    "                    df_bottom_5_ue = df_przetworzone.loc[bottom_5_ue].mean(axis=0) if all(\n",
    "                        kraj in df_przetworzone.index for kraj in bottom_5_ue) else df_przetworzone.loc[kraje_ue].mean(\n",
    "                        axis=0)\n",
    "\n",
    "                    df_top_5_poza_ue = df_przetworzone.loc[top_5_poza_ue].mean(axis=0) if all(\n",
    "                        kraj in df_przetworzone.index for kraj in top_5_poza_ue) else df_przetworzone.loc[\n",
    "                        kraje_poza_ue].mean(axis=0)\n",
    "\n",
    "                    df_bottom_5_poza_ue = df_przetworzone.loc[bottom_5_poza_ue].mean(axis=0) if all(\n",
    "                        kraj in df_przetworzone.index for kraj in bottom_5_poza_ue) else df_przetworzone.loc[\n",
    "                        kraje_poza_ue].mean(axis=0)\n",
    "\n",
    "                    #Legenda\n",
    "                    legend_labels = {\n",
    "                        'Top 5 Krajów UE': top_5_ue,\n",
    "                        'Bottom 5 Krajów UE': bottom_5_ue,\n",
    "                        'Top 5 Krajów Poza UE': top_5_poza_ue,\n",
    "                        'Bottom 5 Krajów Poza UE': bottom_5_poza_ue,\n",
    "                        'Polska': ['Poland']\n",
    "                    }\n",
    "\n",
    "                    #Nazwa pliku wykresu (bez rozszerzenia .xlsx)\n",
    "                    nazwa_bez_ext = os.path.splitext(nazwa_pliku)[0]\n",
    "\n",
    "                    #---------------------\n",
    "                    #WYKRES LINIOWY\n",
    "                    #---------------------\n",
    "                    plt.figure(figsize=(10, 6))\n",
    "\n",
    "                    plt.plot(df_przetworzone.columns, df_top_5_ue,\n",
    "                             label='Top 5 Krajów UE', color='blue', marker='o', linestyle='-', markersize=6)\n",
    "                    plt.plot(df_przetworzone.columns, df_bottom_5_ue,\n",
    "                             label='Bottom 5 Krajów UE', color='red', marker='x', linestyle='-', markersize=6)\n",
    "                    plt.plot(df_przetworzone.columns, df_top_5_poza_ue,\n",
    "                             label='Top 5 Krajów Poza UE', color='green', marker='o', linestyle='-', markersize=6)\n",
    "                    plt.plot(df_przetworzone.columns, df_bottom_5_poza_ue,\n",
    "                             label='Bottom 5 Krajów Poza UE', color='purple', marker='x', linestyle='-', markersize=6)\n",
    "\n",
    "                    #Sprawdzenie, czy w indeksie jest 'Poland'\n",
    "                    if 'Poland' in df_przetworzone.index:\n",
    "                        plt.plot(df_przetworzone.columns, df_przetworzone.loc['Poland'],\n",
    "                                 label='Polska', color='darkred', marker='s', linestyle='-', markersize=6)\n",
    "\n",
    "                    plt.title(f'Wykres Liniowy dla {nazwa_pliku}', fontsize=14)\n",
    "                    plt.xlabel('Rok', fontsize=12)\n",
    "                    plt.ylabel('Procent', fontsize=12)\n",
    "                    plt.grid(True)\n",
    "                    plt.xticks(rotation=45, ha='right')\n",
    "\n",
    "                    #Dodanie legendy z opisem\n",
    "                    plt.legend(labels=[\n",
    "                        f'{label}: {\", \".join(kraje)}'\n",
    "                        for label, kraje in legend_labels.items()\n",
    "                    ],\n",
    "                        loc='upper center',\n",
    "                        bbox_to_anchor=(0.5, -0.15),\n",
    "                        ncol=1)\n",
    "\n",
    "                    plt.tight_layout()\n",
    "\n",
    "                    #Zapisywanie wykresu liniowego\n",
    "                    wykres_path_line = os.path.join(\n",
    "                        sciezka_folderu,\n",
    "                        f'{folder}_{nazwa_bez_ext}_wykres_liniowy.png'\n",
    "                    )\n",
    "                    plt.savefig(wykres_path_line)\n",
    "                    plt.close()  #Zamknięcie wykresu\n",
    "                    print(f'Wykres liniowy zapisany jako {wykres_path_line}')\n",
    "\n",
    "                    #---------------------\n",
    "                    #WYKRES SŁUPKOWY\n",
    "                    #---------------------\n",
    "                    plt.figure(figsize=(12, 6))\n",
    "                    plt.barh(df_przetworzone.columns, df_top_5_ue,\n",
    "                             color='blue', alpha=0.7, label='Top 5 UE')\n",
    "                    plt.barh(df_przetworzone.columns, df_bottom_5_ue,\n",
    "                             color='red', alpha=0.7, label='Bottom 5 UE')\n",
    "                    plt.barh(df_przetworzone.columns, df_top_5_poza_ue,\n",
    "                             color='green', alpha=0.7, label='Top 5 Poza UE')\n",
    "                    plt.barh(df_przetworzone.columns, df_bottom_5_poza_ue,\n",
    "                             color='purple', alpha=0.7, label='Bottom 5 Poza UE')\n",
    "\n",
    "                    #Polska\n",
    "                    if 'Poland' in df_przetworzone.index:\n",
    "                        plt.barh(df_przetworzone.columns, df_przetworzone.loc['Poland'],\n",
    "                                 color='darkred', alpha=0.7, label='Polska')\n",
    "\n",
    "                    plt.title(f'Wykres Słupkowy dla {nazwa_pliku}', fontsize=14)\n",
    "                    plt.xlabel('Procent', fontsize=12)\n",
    "                    plt.ylabel('Rok', fontsize=12)\n",
    "\n",
    "                    #Dodanie legendy\n",
    "                    plt.legend(labels=[\n",
    "                        f'{label}: {\", \".join(kraje)}'\n",
    "                        for label, kraje in legend_labels.items()\n",
    "                    ],\n",
    "                        loc='upper center',\n",
    "                        bbox_to_anchor=(0.5, -0.15),\n",
    "                        ncol=1)\n",
    "\n",
    "                    plt.tight_layout()\n",
    "\n",
    "                    #Zapisywanie wykresu słupkowego\n",
    "                    wykres_path_bar = os.path.join(\n",
    "                        sciezka_folderu,\n",
    "                        f'{folder}_{nazwa_bez_ext}_wykres_slupek.png'\n",
    "                    )\n",
    "                    plt.savefig(wykres_path_bar)\n",
    "                    plt.close()\n",
    "                    print(f'Wykres słupkowy zapisany jako {wykres_path_bar}')\n",
    "\n",
    "                    #---------------------------------------------------------\n",
    "                    #2.GENEROWANIE MAPY\n",
    "                    #---------------------------------------------------------\n",
    "                    if world is not None:\n",
    "                        #Filtrowanie krajów (UE + poza UE) w shapefile\n",
    "                        europe = world[world['SOVEREIGNT'].isin(kraje_ue + kraje_poza_ue)].copy()\n",
    "\n",
    "\n",
    "                        #Dodajemy kolumnę 'value' jako średnią wzdłuż osi kolumn (mean z lat)\n",
    "                        #dla każdego kraju. Jeśli kraju nie ma w df, to NaN.\n",
    "                        def oblicz_srednia(kraj):\n",
    "                            if kraj in df_przetworzone.index:\n",
    "                                return df_przetworzone.loc[kraj].mean()\n",
    "                            else:\n",
    "                                return np.nan\n",
    "\n",
    "\n",
    "                        europe['value'] = europe['SOVEREIGNT'].apply(oblicz_srednia)\n",
    "\n",
    "                        #Rysowanie mapy\n",
    "                        fig, ax = plt.subplots(figsize=(10, 8))\n",
    "                        #Obrys granic i wypełnienie kolorem\n",
    "                        europe.boundary.plot(ax=ax, color='black', linewidth=0.5)\n",
    "                        europe.plot(\n",
    "                            column='value',\n",
    "                            ax=ax,\n",
    "                            legend=True,\n",
    "                            legend_kwds={\n",
    "                                'label': \"Średnia wartość procentowa\",\n",
    "                                'orientation': \"horizontal\"\n",
    "                            },\n",
    "                            cmap='coolwarm'\n",
    "                        )\n",
    "\n",
    "                        #Przybliżone granice Europy\n",
    "                        ax.set_xlim(-25, 45)\n",
    "                        ax.set_ylim(35, 72)\n",
    "                        plt.title(f'Mapa Europy - {nazwa_pliku}', fontsize=14)\n",
    "\n",
    "                        plt.tight_layout()\n",
    "\n",
    "                        mapa_path = os.path.join(\n",
    "                            sciezka_folderu,\n",
    "                            f'{folder}_{nazwa_bez_ext}_mapa.png'\n",
    "                        )\n",
    "                        plt.savefig(mapa_path)\n",
    "                        plt.close()\n",
    "                        print(f\"Mapa zapisana jako {mapa_path}\")\n"
   ],
   "outputs": [
    {
     "name": "stderr",
     "output_type": "stream",
     "text": [
      "C:\\Users\\olafo\\miniconda3\\Lib\\site-packages\\openpyxl\\styles\\stylesheet.py:237: UserWarning: Workbook contains no default style, apply openpyxl's default\n",
      "  warn(\"Workbook contains no default style, apply openpyxl's default\")\n",
      "C:\\Users\\olafo\\AppData\\Local\\Temp\\ipykernel_27040\\2596029108.py:40: FutureWarning: Downcasting behavior in `replace` is deprecated and will be removed in a future version. To retain the old behavior, explicitly call `result.infer_objects(copy=False)`. To opt-in to the future behavior, set `pd.set_option('future.no_silent_downcasting', True)`\n",
      "  df.replace(['b', 'd', ':'], np.nan, inplace=True)\n"
     ]
    },
    {
     "name": "stdout",
     "output_type": "stream",
     "text": [
      "Wykres liniowy zapisany jako C:\\Users\\olafo\\OneDrive\\Pulpit\\Wiktor_projekt\\Employment and activity by sex and age_Employment and activity by sex and age_wykres_liniowy.png\n",
      "Wykres słupkowy zapisany jako C:\\Users\\olafo\\OneDrive\\Pulpit\\Wiktor_projekt\\Employment and activity by sex and age_Employment and activity by sex and age_wykres_slupek.png\n",
      "Mapa zapisana jako C:\\Users\\olafo\\OneDrive\\Pulpit\\Wiktor_projekt\\Employment and activity by sex and age_Employment and activity by sex and age_mapa.png\n"
     ]
    },
    {
     "name": "stderr",
     "output_type": "stream",
     "text": [
      "C:\\Users\\olafo\\miniconda3\\Lib\\site-packages\\openpyxl\\styles\\stylesheet.py:237: UserWarning: Workbook contains no default style, apply openpyxl's default\n",
      "  warn(\"Workbook contains no default style, apply openpyxl's default\")\n",
      "C:\\Users\\olafo\\AppData\\Local\\Temp\\ipykernel_27040\\2596029108.py:40: FutureWarning: Downcasting behavior in `replace` is deprecated and will be removed in a future version. To retain the old behavior, explicitly call `result.infer_objects(copy=False)`. To opt-in to the future behavior, set `pd.set_option('future.no_silent_downcasting', True)`\n",
      "  df.replace(['b', 'd', ':'], np.nan, inplace=True)\n"
     ]
    },
    {
     "name": "stdout",
     "output_type": "stream",
     "text": [
      "Wykres liniowy zapisany jako C:\\Users\\olafo\\OneDrive\\Pulpit\\Wiktor_projekt\\Employment by educational attainment level - Tertiary education (levels 5-8)_Employment by educational attainment level - Tertiary education (levels 5-8)_wykres_liniowy.png\n",
      "Wykres słupkowy zapisany jako C:\\Users\\olafo\\OneDrive\\Pulpit\\Wiktor_projekt\\Employment by educational attainment level - Tertiary education (levels 5-8)_Employment by educational attainment level - Tertiary education (levels 5-8)_wykres_slupek.png\n",
      "Mapa zapisana jako C:\\Users\\olafo\\OneDrive\\Pulpit\\Wiktor_projekt\\Employment by educational attainment level - Tertiary education (levels 5-8)_Employment by educational attainment level - Tertiary education (levels 5-8)_mapa.png\n"
     ]
    },
    {
     "name": "stderr",
     "output_type": "stream",
     "text": [
      "C:\\Users\\olafo\\miniconda3\\Lib\\site-packages\\openpyxl\\styles\\stylesheet.py:237: UserWarning: Workbook contains no default style, apply openpyxl's default\n",
      "  warn(\"Workbook contains no default style, apply openpyxl's default\")\n",
      "C:\\Users\\olafo\\AppData\\Local\\Temp\\ipykernel_27040\\2596029108.py:40: FutureWarning: Downcasting behavior in `replace` is deprecated and will be removed in a future version. To retain the old behavior, explicitly call `result.infer_objects(copy=False)`. To opt-in to the future behavior, set `pd.set_option('future.no_silent_downcasting', True)`\n",
      "  df.replace(['b', 'd', ':'], np.nan, inplace=True)\n"
     ]
    },
    {
     "name": "stdout",
     "output_type": "stream",
     "text": [
      "Wykres liniowy zapisany jako C:\\Users\\olafo\\OneDrive\\Pulpit\\Wiktor_projekt\\Employment by sex, age and economic activity  - Construction_Employment by sex, age and economic activity  - Construction_wykres_liniowy.png\n",
      "Wykres słupkowy zapisany jako C:\\Users\\olafo\\OneDrive\\Pulpit\\Wiktor_projekt\\Employment by sex, age and economic activity  - Construction_Employment by sex, age and economic activity  - Construction_wykres_slupek.png\n",
      "Mapa zapisana jako C:\\Users\\olafo\\OneDrive\\Pulpit\\Wiktor_projekt\\Employment by sex, age and economic activity  - Construction_Employment by sex, age and economic activity  - Construction_mapa.png\n"
     ]
    },
    {
     "name": "stderr",
     "output_type": "stream",
     "text": [
      "C:\\Users\\olafo\\miniconda3\\Lib\\site-packages\\openpyxl\\styles\\stylesheet.py:237: UserWarning: Workbook contains no default style, apply openpyxl's default\n",
      "  warn(\"Workbook contains no default style, apply openpyxl's default\")\n",
      "C:\\Users\\olafo\\AppData\\Local\\Temp\\ipykernel_27040\\2596029108.py:40: FutureWarning: Downcasting behavior in `replace` is deprecated and will be removed in a future version. To retain the old behavior, explicitly call `result.infer_objects(copy=False)`. To opt-in to the future behavior, set `pd.set_option('future.no_silent_downcasting', True)`\n",
      "  df.replace(['b', 'd', ':'], np.nan, inplace=True)\n"
     ]
    },
    {
     "name": "stdout",
     "output_type": "stream",
     "text": [
      "Wykres liniowy zapisany jako C:\\Users\\olafo\\OneDrive\\Pulpit\\Wiktor_projekt\\Employment by sex, age and economic activity -  Education_Employment by sex, age and economic activity -  Education_wykres_liniowy.png\n",
      "Wykres słupkowy zapisany jako C:\\Users\\olafo\\OneDrive\\Pulpit\\Wiktor_projekt\\Employment by sex, age and economic activity -  Education_Employment by sex, age and economic activity -  Education_wykres_slupek.png\n",
      "Mapa zapisana jako C:\\Users\\olafo\\OneDrive\\Pulpit\\Wiktor_projekt\\Employment by sex, age and economic activity -  Education_Employment by sex, age and economic activity -  Education_mapa.png\n"
     ]
    },
    {
     "name": "stderr",
     "output_type": "stream",
     "text": [
      "C:\\Users\\olafo\\miniconda3\\Lib\\site-packages\\openpyxl\\styles\\stylesheet.py:237: UserWarning: Workbook contains no default style, apply openpyxl's default\n",
      "  warn(\"Workbook contains no default style, apply openpyxl's default\")\n",
      "C:\\Users\\olafo\\AppData\\Local\\Temp\\ipykernel_27040\\2596029108.py:40: FutureWarning: Downcasting behavior in `replace` is deprecated and will be removed in a future version. To retain the old behavior, explicitly call `result.infer_objects(copy=False)`. To opt-in to the future behavior, set `pd.set_option('future.no_silent_downcasting', True)`\n",
      "  df.replace(['b', 'd', ':'], np.nan, inplace=True)\n"
     ]
    },
    {
     "name": "stdout",
     "output_type": "stream",
     "text": [
      "Wykres liniowy zapisany jako C:\\Users\\olafo\\OneDrive\\Pulpit\\Wiktor_projekt\\Employment by sex, age and economic activity - Agriculture, forestry and fishing_Employment by sex, age and economic activity - Agriculture, forestry and fishing_wykres_liniowy.png\n",
      "Wykres słupkowy zapisany jako C:\\Users\\olafo\\OneDrive\\Pulpit\\Wiktor_projekt\\Employment by sex, age and economic activity - Agriculture, forestry and fishing_Employment by sex, age and economic activity - Agriculture, forestry and fishing_wykres_slupek.png\n",
      "Mapa zapisana jako C:\\Users\\olafo\\OneDrive\\Pulpit\\Wiktor_projekt\\Employment by sex, age and economic activity - Agriculture, forestry and fishing_Employment by sex, age and economic activity - Agriculture, forestry and fishing_mapa.png\n"
     ]
    },
    {
     "name": "stderr",
     "output_type": "stream",
     "text": [
      "C:\\Users\\olafo\\miniconda3\\Lib\\site-packages\\openpyxl\\styles\\stylesheet.py:237: UserWarning: Workbook contains no default style, apply openpyxl's default\n",
      "  warn(\"Workbook contains no default style, apply openpyxl's default\")\n",
      "C:\\Users\\olafo\\AppData\\Local\\Temp\\ipykernel_27040\\2596029108.py:40: FutureWarning: Downcasting behavior in `replace` is deprecated and will be removed in a future version. To retain the old behavior, explicitly call `result.infer_objects(copy=False)`. To opt-in to the future behavior, set `pd.set_option('future.no_silent_downcasting', True)`\n",
      "  df.replace(['b', 'd', ':'], np.nan, inplace=True)\n"
     ]
    },
    {
     "name": "stdout",
     "output_type": "stream",
     "text": [
      "Wykres liniowy zapisany jako C:\\Users\\olafo\\OneDrive\\Pulpit\\Wiktor_projekt\\Employment by sex, age and economic activity - Human health and social work activities_Employment by sex, age and economic activity - Human health and social work activities_wykres_liniowy.png\n",
      "Wykres słupkowy zapisany jako C:\\Users\\olafo\\OneDrive\\Pulpit\\Wiktor_projekt\\Employment by sex, age and economic activity - Human health and social work activities_Employment by sex, age and economic activity - Human health and social work activities_wykres_slupek.png\n",
      "Mapa zapisana jako C:\\Users\\olafo\\OneDrive\\Pulpit\\Wiktor_projekt\\Employment by sex, age and economic activity - Human health and social work activities_Employment by sex, age and economic activity - Human health and social work activities_mapa.png\n"
     ]
    },
    {
     "name": "stderr",
     "output_type": "stream",
     "text": [
      "C:\\Users\\olafo\\miniconda3\\Lib\\site-packages\\openpyxl\\styles\\stylesheet.py:237: UserWarning: Workbook contains no default style, apply openpyxl's default\n",
      "  warn(\"Workbook contains no default style, apply openpyxl's default\")\n",
      "C:\\Users\\olafo\\AppData\\Local\\Temp\\ipykernel_27040\\2596029108.py:40: FutureWarning: Downcasting behavior in `replace` is deprecated and will be removed in a future version. To retain the old behavior, explicitly call `result.infer_objects(copy=False)`. To opt-in to the future behavior, set `pd.set_option('future.no_silent_downcasting', True)`\n",
      "  df.replace(['b', 'd', ':'], np.nan, inplace=True)\n"
     ]
    },
    {
     "name": "stdout",
     "output_type": "stream",
     "text": [
      "Wykres liniowy zapisany jako C:\\Users\\olafo\\OneDrive\\Pulpit\\Wiktor_projekt\\Employment by sex, age and economic activity - Information and communication_Employment by sex, age and economic activity - Information and communication_wykres_liniowy.png\n",
      "Wykres słupkowy zapisany jako C:\\Users\\olafo\\OneDrive\\Pulpit\\Wiktor_projekt\\Employment by sex, age and economic activity - Information and communication_Employment by sex, age and economic activity - Information and communication_wykres_slupek.png\n",
      "Mapa zapisana jako C:\\Users\\olafo\\OneDrive\\Pulpit\\Wiktor_projekt\\Employment by sex, age and economic activity - Information and communication_Employment by sex, age and economic activity - Information and communication_mapa.png\n"
     ]
    },
    {
     "name": "stderr",
     "output_type": "stream",
     "text": [
      "C:\\Users\\olafo\\miniconda3\\Lib\\site-packages\\openpyxl\\styles\\stylesheet.py:237: UserWarning: Workbook contains no default style, apply openpyxl's default\n",
      "  warn(\"Workbook contains no default style, apply openpyxl's default\")\n",
      "C:\\Users\\olafo\\AppData\\Local\\Temp\\ipykernel_27040\\2596029108.py:40: FutureWarning: Downcasting behavior in `replace` is deprecated and will be removed in a future version. To retain the old behavior, explicitly call `result.infer_objects(copy=False)`. To opt-in to the future behavior, set `pd.set_option('future.no_silent_downcasting', True)`\n",
      "  df.replace(['b', 'd', ':'], np.nan, inplace=True)\n"
     ]
    },
    {
     "name": "stdout",
     "output_type": "stream",
     "text": [
      "Wykres liniowy zapisany jako C:\\Users\\olafo\\OneDrive\\Pulpit\\Wiktor_projekt\\Employment by sex, age and economic activity - Manufacturing_Employment by sex, age and economic activity - Manufacturing_wykres_liniowy.png\n",
      "Wykres słupkowy zapisany jako C:\\Users\\olafo\\OneDrive\\Pulpit\\Wiktor_projekt\\Employment by sex, age and economic activity - Manufacturing_Employment by sex, age and economic activity - Manufacturing_wykres_slupek.png\n",
      "Mapa zapisana jako C:\\Users\\olafo\\OneDrive\\Pulpit\\Wiktor_projekt\\Employment by sex, age and economic activity - Manufacturing_Employment by sex, age and economic activity - Manufacturing_mapa.png\n"
     ]
    },
    {
     "name": "stderr",
     "output_type": "stream",
     "text": [
      "C:\\Users\\olafo\\miniconda3\\Lib\\site-packages\\openpyxl\\styles\\stylesheet.py:237: UserWarning: Workbook contains no default style, apply openpyxl's default\n",
      "  warn(\"Workbook contains no default style, apply openpyxl's default\")\n",
      "C:\\Users\\olafo\\AppData\\Local\\Temp\\ipykernel_27040\\2596029108.py:40: FutureWarning: Downcasting behavior in `replace` is deprecated and will be removed in a future version. To retain the old behavior, explicitly call `result.infer_objects(copy=False)`. To opt-in to the future behavior, set `pd.set_option('future.no_silent_downcasting', True)`\n",
      "  df.replace(['b', 'd', ':'], np.nan, inplace=True)\n"
     ]
    },
    {
     "name": "stdout",
     "output_type": "stream",
     "text": [
      "Wykres liniowy zapisany jako C:\\Users\\olafo\\OneDrive\\Pulpit\\Wiktor_projekt\\Employment Less than primary, primary and lower secondary education (levels 0-2)_Employment Less than primary, primary and lower secondary education (levels 0-2)_wykres_liniowy.png\n",
      "Wykres słupkowy zapisany jako C:\\Users\\olafo\\OneDrive\\Pulpit\\Wiktor_projekt\\Employment Less than primary, primary and lower secondary education (levels 0-2)_Employment Less than primary, primary and lower secondary education (levels 0-2)_wykres_slupek.png\n",
      "Mapa zapisana jako C:\\Users\\olafo\\OneDrive\\Pulpit\\Wiktor_projekt\\Employment Less than primary, primary and lower secondary education (levels 0-2)_Employment Less than primary, primary and lower secondary education (levels 0-2)_mapa.png\n"
     ]
    },
    {
     "name": "stderr",
     "output_type": "stream",
     "text": [
      "C:\\Users\\olafo\\miniconda3\\Lib\\site-packages\\openpyxl\\styles\\stylesheet.py:237: UserWarning: Workbook contains no default style, apply openpyxl's default\n",
      "  warn(\"Workbook contains no default style, apply openpyxl's default\")\n",
      "C:\\Users\\olafo\\AppData\\Local\\Temp\\ipykernel_27040\\2596029108.py:40: FutureWarning: Downcasting behavior in `replace` is deprecated and will be removed in a future version. To retain the old behavior, explicitly call `result.infer_objects(copy=False)`. To opt-in to the future behavior, set `pd.set_option('future.no_silent_downcasting', True)`\n",
      "  df.replace(['b', 'd', ':'], np.nan, inplace=True)\n"
     ]
    },
    {
     "name": "stdout",
     "output_type": "stream",
     "text": [
      "Wykres liniowy zapisany jako C:\\Users\\olafo\\OneDrive\\Pulpit\\Wiktor_projekt\\Employment- Upper secondary and post-secondary non-tertiary education (levels 3 and 4)_Employment- Upper secondary and post-secondary non-tertiary education (levels 3 and 4)_wykres_liniowy.png\n",
      "Wykres słupkowy zapisany jako C:\\Users\\olafo\\OneDrive\\Pulpit\\Wiktor_projekt\\Employment- Upper secondary and post-secondary non-tertiary education (levels 3 and 4)_Employment- Upper secondary and post-secondary non-tertiary education (levels 3 and 4)_wykres_slupek.png\n",
      "Mapa zapisana jako C:\\Users\\olafo\\OneDrive\\Pulpit\\Wiktor_projekt\\Employment- Upper secondary and post-secondary non-tertiary education (levels 3 and 4)_Employment- Upper secondary and post-secondary non-tertiary education (levels 3 and 4)_mapa.png\n",
      "Brak kolumny 'TIME' w pliku C:\\Users\\olafo\\OneDrive\\Pulpit\\Wiktor_projekt\\Unemployment by sex and age\\Unemployment by sex and age.xlsx. Dostępne kolumny: Index(['GEO (Labels)'], dtype='object')\n"
     ]
    },
    {
     "name": "stderr",
     "output_type": "stream",
     "text": [
      "C:\\Users\\olafo\\miniconda3\\Lib\\site-packages\\openpyxl\\styles\\stylesheet.py:237: UserWarning: Workbook contains no default style, apply openpyxl's default\n",
      "  warn(\"Workbook contains no default style, apply openpyxl's default\")\n"
     ]
    }
   ],
   "execution_count": 1
  },
  {
   "metadata": {
    "ExecuteTime": {
     "end_time": "2025-02-08T16:36:06.119449Z",
     "start_time": "2025-02-08T16:36:06.116246Z"
    }
   },
   "cell_type": "code",
   "source": "",
   "id": "e40a72b4c20b2d2e",
   "outputs": [],
   "execution_count": null
  }
 ],
 "metadata": {
  "kernelspec": {
   "display_name": "Python 3",
   "language": "python",
   "name": "python3"
  },
  "language_info": {
   "codemirror_mode": {
    "name": "ipython",
    "version": 2
   },
   "file_extension": ".py",
   "mimetype": "text/x-python",
   "name": "python",
   "nbconvert_exporter": "python",
   "pygments_lexer": "ipython2",
   "version": "2.7.6"
  }
 },
 "nbformat": 4,
 "nbformat_minor": 5
}
